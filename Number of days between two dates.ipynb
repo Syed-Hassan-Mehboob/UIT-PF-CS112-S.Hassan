{
 "cells": [
  {
   "cell_type": "code",
   "execution_count": 1,
   "metadata": {},
   "outputs": [
    {
     "name": "stdout",
     "output_type": "stream",
     "text": [
      "~FINDING THE NUMBER OF DAYS BETWEEN ANY TWO DATES~\n",
      "\n",
      "\n",
      "Enter year of the first date: 2020\n",
      "Enter month of the first date: 11\n",
      "Enter day of the first date: 14\n",
      "\n",
      "DATE NUMBER ONE IS:  2020-11-14\n",
      "\n",
      "\n",
      "Enter year of the second date: 2020\n",
      "Enter month of the second date: 11\n",
      "Enter day of the second date: 16\n",
      "\n",
      "DATE NUMBER TWO IS:  2020-11-16\n",
      "\n",
      "\n",
      "THERE ARE 2 days BETWEEN THE FIRST DATE( 2020-11-14 ) AND THE SECOND DATE( 2020-11-16 ).\n"
     ]
    }
   ],
   "source": [
    "print('~FINDING THE NUMBER OF DAYS BETWEEN ANY TWO DATES~')\n",
    "\n",
    "print() # Aesthetics\n",
    "print() # Aesthetics\n",
    "\n",
    "from datetime import date\n",
    "\n",
    "# Taking first date as input from user.\n",
    "y1, m1, d1 = int(input('Enter year of the first date: ')), int(input('Enter month of the first date: ')), int(input('Enter day of the first date: '))\n",
    "date1 = date(y1, m1, d1)\n",
    "print()\n",
    "print('DATE NUMBER ONE IS: ', date1)\n",
    "\n",
    "print() # Aesthetics\n",
    "print() # Aesthetics\n",
    "\n",
    "# Taking second date as input from user.\n",
    "y2, m2, d2 = int(input('Enter year of the second date: ')), int(input('Enter month of the second date: ')), int(input('Enter day of the second date: '))\n",
    "date2 = date(y2, m2, d2)\n",
    "print()\n",
    "print('DATE NUMBER TWO IS: ', date2)\n",
    "\n",
    "print() # Aesthetics\n",
    "print() # Aesthetics\n",
    "\n",
    "# Finding difference between date1 and date2.\n",
    "no_of_days = date1 - date2\n",
    "\n",
    "# Printing the number of days between date1 and date2.\n",
    "print('THERE ARE', abs(no_of_days.days), 'days BETWEEN THE FIRST DATE(', date1, ') AND THE SECOND DATE(', date2, ').')"
   ]
  }
 ],
 "metadata": {
  "kernelspec": {
   "display_name": "Python 3",
   "language": "python",
   "name": "python3"
  },
  "language_info": {
   "codemirror_mode": {
    "name": "ipython",
    "version": 3
   },
   "file_extension": ".py",
   "mimetype": "text/x-python",
   "name": "python",
   "nbconvert_exporter": "python",
   "pygments_lexer": "ipython3",
   "version": "3.8.5"
  }
 },
 "nbformat": 4,
 "nbformat_minor": 4
}
