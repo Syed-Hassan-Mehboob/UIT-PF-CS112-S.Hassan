{
 "cells": [
  {
   "cell_type": "code",
   "execution_count": 2,
   "metadata": {},
   "outputs": [
    {
     "name": "stdout",
     "output_type": "stream",
     "text": [
      "------------------------------------------------------------------------------------------------------------------------\n",
      "                             PROGRAM TO CALCULATE THE 'nth' TERM OF AN AIRTHEMATIC SEQUENCE\n",
      "------------------------------------------------------------------------------------------------------------------------\n",
      "First term of arithematic sequence: 3\n",
      "Common difference of arithematic sequence: 6\n",
      "\n",
      "The term you want to find: 35\n",
      "IN AN ARITHMETIC SEQUENCE THAT STARTS WITH 3 AND HAS A COMMON DIFFERENCE OF 6 THE TERM no 35 IS: 207\n",
      "------------------------------------------------------------------------------------------------------------------------\n",
      "------------------------------------------------------------------------------------------------------------------------\n",
      "Type 'y' to enter new sequence or 'n' to continue with last seq: y\n",
      "\n",
      "First term of arithematic sequence: 2\n",
      "Common difference of arithematic sequence: 2\n",
      "\n",
      "Type 'y' to find a term in the last seq or 'n' to end the program: y\n",
      "\n",
      "The term you want to find: 5\n",
      "IN AN ARITHMETIC SEQUENCE THAT STARTS WITH 2 AND HAS A COMMON DIFFERENCE OF 2 THE TERM no 5 IS: 10\n",
      "------------------------------------------------------------------------------------------------------------------------\n",
      "------------------------------------------------------------------------------------------------------------------------\n",
      "Type 'y' to enter new sequence or 'n' to continue with last seq: n\n",
      "\n",
      "Type 'y' to find a term in the last seq or 'n' to end the program: y\n",
      "\n",
      "The term you want to find: 6\n",
      "IN AN ARITHMETIC SEQUENCE THAT STARTS WITH 2 AND HAS A COMMON DIFFERENCE OF 2 THE TERM no 6 IS: 12\n",
      "------------------------------------------------------------------------------------------------------------------------\n",
      "------------------------------------------------------------------------------------------------------------------------\n",
      "Type 'y' to enter new sequence or 'n' to continue with last seq: n\n",
      "\n",
      "Type 'y' to find a term in the last seq or 'n' to end the program: n\n",
      "\n",
      "------------------------------------------------------------------------------------------------------------------------\n",
      "                                             THANK-YOU THE PROGRAM HAS ENDED\n",
      "------------------------------------------------------------------------------------------------------------------------\n"
     ]
    }
   ],
   "source": [
    "print(120*'-'+'\\n '+28*' '+\"PROGRAM TO CALCULATE THE 'nth' TERM OF AN AIRTHEMATIC SEQUENCE\")\n",
    "i=0\n",
    "while i>(-1):\n",
    "    print(120*'-')\n",
    "    if i==0:\n",
    "        a1,d=int(input('First term of arithematic sequence: ')),int(input('Common difference of arithematic sequence: '))\n",
    "        print()\n",
    "        n=int(input('The term you want to find: '))\n",
    "        print('IN AN ARITHMETIC SEQUENCE THAT STARTS WITH',a1,'AND HAS A COMMON DIFFERENCE OF',d,'THE TERM no',n,'IS:',(a1+((n-1)*d)))\n",
    "        print(120*'-')\n",
    "    if i>0:\n",
    "        a=input(\"Type 'y' to enter new sequence or 'n' to continue with last seq: \")\n",
    "        print()\n",
    "        if a.lower()=='y':\n",
    "            a1,d=int(input('First term of arithematic sequence: ')),int(input('Common difference of arithematic sequence: '))\n",
    "            print()\n",
    "        b=input(\"Type 'y' to find a term in the last seq or 'n' to end the program: \")\n",
    "        print()\n",
    "        if b.lower()=='y':\n",
    "            n=int(input('The term you want to find: '))\n",
    "            print('IN AN ARITHMETIC SEQUENCE THAT STARTS WITH',a1,'AND HAS A COMMON DIFFERENCE OF',d,'THE TERM no',n,'IS:',(a1+((n-1)*d)))\n",
    "            print(120*'-')\n",
    "        else:\n",
    "            print(120*'-'+'\\n '+44*' '+'THANK-YOU THE PROGRAM HAS ENDED\\n-'+119*'-')\n",
    "            break\n",
    "    i=i+1"
   ]
  },
  {
   "cell_type": "code",
   "execution_count": null,
   "metadata": {},
   "outputs": [],
   "source": []
  }
 ],
 "metadata": {
  "kernelspec": {
   "display_name": "Python 3",
   "language": "python",
   "name": "python3"
  },
  "language_info": {
   "codemirror_mode": {
    "name": "ipython",
    "version": 3
   },
   "file_extension": ".py",
   "mimetype": "text/x-python",
   "name": "python",
   "nbconvert_exporter": "python",
   "pygments_lexer": "ipython3",
   "version": "3.8.5"
  }
 },
 "nbformat": 4,
 "nbformat_minor": 4
}
