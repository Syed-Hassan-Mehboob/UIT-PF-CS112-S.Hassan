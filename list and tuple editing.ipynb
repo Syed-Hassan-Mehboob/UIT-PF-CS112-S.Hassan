{
 "cells": [
  {
   "cell_type": "code",
   "execution_count": 35,
   "metadata": {},
   "outputs": [
    {
     "name": "stdout",
     "output_type": "stream",
     "text": [
      "monthsL: ['Jan', 'Feb', 'Mar', 'May']  and monthsT: ('Jan', 'Feb', 'Mar', 'May')\n"
     ]
    }
   ],
   "source": [
    "# Assigning a list and a tuple to two variables.\n",
    "monthsL = ['Jan', 'Feb', 'Mar', 'May']\n",
    "monthsT = ('Jan', 'Feb', 'Mar', 'May')\n",
    "print('monthsL:', monthsL, \" and monthsT:\", monthsT)"
   ]
  },
  {
   "cell_type": "code",
   "execution_count": 36,
   "metadata": {},
   "outputs": [
    {
     "ename": "AttributeError",
     "evalue": "'tuple' object has no attribute 'insert'",
     "output_type": "error",
     "traceback": [
      "\u001b[1;31m---------------------------------------------------------------------------\u001b[0m",
      "\u001b[1;31mAttributeError\u001b[0m                            Traceback (most recent call last)",
      "\u001b[1;32m<ipython-input-36-9bf102fc6fd6>\u001b[0m in \u001b[0;36m<module>\u001b[1;34m\u001b[0m\n\u001b[0;32m      1\u001b[0m \u001b[1;31m## Checking if tuples can be edited.\u001b[0m\u001b[1;33m\u001b[0m\u001b[1;33m\u001b[0m\u001b[1;33m\u001b[0m\u001b[0m\n\u001b[1;32m----> 2\u001b[1;33m \u001b[0mmonthsT\u001b[0m\u001b[1;33m.\u001b[0m\u001b[0minsert\u001b[0m\u001b[1;33m(\u001b[0m\u001b[1;36m3\u001b[0m\u001b[1;33m,\u001b[0m \u001b[1;34m'Apr'\u001b[0m\u001b[1;33m)\u001b[0m\u001b[1;33m\u001b[0m\u001b[1;33m\u001b[0m\u001b[0m\n\u001b[0m",
      "\u001b[1;31mAttributeError\u001b[0m: 'tuple' object has no attribute 'insert'"
     ]
    }
   ],
   "source": [
    "## Checking if tuples can be edited.\n",
    "monthsT.insert(3, 'Apr')"
   ]
  },
  {
   "cell_type": "code",
   "execution_count": 38,
   "metadata": {},
   "outputs": [
    {
     "name": "stdout",
     "output_type": "stream",
     "text": [
      "monthsT: ['Jan', 'Feb', 'Mar', 'May']\n"
     ]
    }
   ],
   "source": [
    "## Converting monthsT into a list so that we can edit it.\n",
    "monthsT = list(monthsT)\n",
    "print(\"monthsT:\", monthsT)"
   ]
  },
  {
   "cell_type": "code",
   "execution_count": 39,
   "metadata": {},
   "outputs": [
    {
     "name": "stdout",
     "output_type": "stream",
     "text": [
      "monthsL: ['Jan', 'Feb', 'Mar', 'Apr', 'May']  and monthsT: ['Jan', 'Feb', 'Mar', 'Apr', 'May']\n"
     ]
    }
   ],
   "source": [
    "### (a) Inserting string 'Apr' between 'Mar' and 'May' in both containers.\n",
    "monthsL.insert(3, 'Apr')\n",
    "monthsT.insert(3, 'Apr')\n",
    "print('monthsL:', monthsL, \" and monthsT:\", monthsT)"
   ]
  },
  {
   "cell_type": "code",
   "execution_count": 40,
   "metadata": {},
   "outputs": [
    {
     "name": "stdout",
     "output_type": "stream",
     "text": [
      "monthsL: ['Jan', 'Feb', 'Mar', 'Apr', 'May', 'Jun']  and monthsT: ['Jan', 'Feb', 'Mar', 'Apr', 'May', 'Jun']\n"
     ]
    }
   ],
   "source": [
    "### (b) Apending the string 'Jun' in both containers.\n",
    "monthsL.append('Jun')\n",
    "monthsT.append('Jun')\n",
    "print('monthsL:', monthsL, \" and monthsT:\", monthsT)"
   ]
  },
  {
   "cell_type": "code",
   "execution_count": 41,
   "metadata": {},
   "outputs": [
    {
     "name": "stdout",
     "output_type": "stream",
     "text": [
      "monthsL: ['Jan', 'Feb', 'Mar', 'Apr', 'May']  and monthsT: ['Jan', 'Feb', 'Mar', 'Apr', 'May']\n"
     ]
    }
   ],
   "source": [
    "### (c) Popping both containers.\n",
    "monthsL.pop()\n",
    "monthsT.pop()\n",
    "print('monthsL:', monthsL, \" and monthsT:\", monthsT)"
   ]
  },
  {
   "cell_type": "code",
   "execution_count": 42,
   "metadata": {},
   "outputs": [
    {
     "name": "stdout",
     "output_type": "stream",
     "text": [
      "monthsL: ['Jan', 'Mar', 'Apr', 'May']  and monthsT: ['Jan', 'Mar', 'Apr', 'May']\n"
     ]
    }
   ],
   "source": [
    "### (d) Removing the second item in both containers.\n",
    "monthsL.remove('Feb')\n",
    "monthsT.remove('Feb')\n",
    "print('monthsL:', monthsL, \" and monthsT:\", monthsT)"
   ]
  },
  {
   "cell_type": "code",
   "execution_count": 43,
   "metadata": {},
   "outputs": [
    {
     "name": "stdout",
     "output_type": "stream",
     "text": [
      "monthsL: ['May', 'Apr', 'Mar', 'Jan']  and monthsT: ['May', 'Apr', 'Mar', 'Jan']\n"
     ]
    }
   ],
   "source": [
    "### (e) Reversing the order of items in both containers.\n",
    "monthsL.reverse()\n",
    "monthsT.reverse()\n",
    "print('monthsL:', monthsL, \" and monthsT:\", monthsT)"
   ]
  },
  {
   "cell_type": "code",
   "execution_count": 44,
   "metadata": {},
   "outputs": [
    {
     "name": "stdout",
     "output_type": "stream",
     "text": [
      "monthsL: ['Apr', 'Jan', 'Mar', 'May']  and monthsT: ['Apr', 'Jan', 'Mar', 'May']\n"
     ]
    }
   ],
   "source": [
    "### (f) Sorting both containers.\n",
    "monthsL.sort()\n",
    "monthsT.sort()\n",
    "print('monthsL:', monthsL, \" and monthsT:\", monthsT)"
   ]
  },
  {
   "cell_type": "code",
   "execution_count": 45,
   "metadata": {},
   "outputs": [
    {
     "name": "stdout",
     "output_type": "stream",
     "text": [
      "monthsT: ('Apr', 'Jan', 'Mar', 'May')\n"
     ]
    }
   ],
   "source": [
    "## Reconverting monthsT_list into a tuple.\n",
    "monthsT = tuple(monthsT)\n",
    "print('monthsT:', monthsT)"
   ]
  }
 ],
 "metadata": {
  "kernelspec": {
   "display_name": "Python 3",
   "language": "python",
   "name": "python3"
  },
  "language_info": {
   "codemirror_mode": {
    "name": "ipython",
    "version": 3
   },
   "file_extension": ".py",
   "mimetype": "text/x-python",
   "name": "python",
   "nbconvert_exporter": "python",
   "pygments_lexer": "ipython3",
   "version": "3.8.5"
  }
 },
 "nbformat": 4,
 "nbformat_minor": 4
}
