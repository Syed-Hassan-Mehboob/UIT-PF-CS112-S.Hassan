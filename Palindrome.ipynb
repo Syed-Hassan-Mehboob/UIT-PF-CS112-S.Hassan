{
 "cells": [
  {
   "cell_type": "code",
   "execution_count": 1,
   "metadata": {},
   "outputs": [
    {
     "name": "stdout",
     "output_type": "stream",
     "text": [
      "PROGRAM TO FIND WHETHER THE ENTERED STRING IS A PALINDROME OR NOT.\n",
      "Enter a string : tattarrattat\n",
      "Yes! The entered string is a Palindrome.\n"
     ]
    }
   ],
   "source": [
    "print('PROGRAM TO FIND WHETHER THE ENTERED STRING IS A PALINDROME OR NOT.')\n",
    "string=input(\"Enter a string : \")\n",
    "if string.casefold()==string.casefold()[::-1]:\n",
    "    print('Yes! The entered string is a Palindrome.')\n",
    "else:\n",
    "    print('Sorry! The entered string is not a Palindrome.')"
   ]
  }
 ],
 "metadata": {
  "kernelspec": {
   "display_name": "Python 3",
   "language": "python",
   "name": "python3"
  },
  "language_info": {
   "codemirror_mode": {
    "name": "ipython",
    "version": 3
   },
   "file_extension": ".py",
   "mimetype": "text/x-python",
   "name": "python",
   "nbconvert_exporter": "python",
   "pygments_lexer": "ipython3",
   "version": "3.8.5"
  }
 },
 "nbformat": 4,
 "nbformat_minor": 4
}
