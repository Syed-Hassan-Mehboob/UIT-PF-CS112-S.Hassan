{
 "cells": [
  {
   "cell_type": "code",
   "execution_count": 1,
   "metadata": {},
   "outputs": [
    {
     "name": "stdout",
     "output_type": "stream",
     "text": [
      "PROGRAM TO MULTIPLY TWO SQUARE MATRICES\n",
      "\n",
      "No. of rows and columns in both of your square matrices: 3\n",
      "\n",
      "Element no.1 in first 3 by 3 matrix: 1\n",
      "Element no.2 in first 3 by 3 matrix: 2\n",
      "Element no.3 in first 3 by 3 matrix: 3\n",
      "Element no.4 in first 3 by 3 matrix: 4\n",
      "Element no.5 in first 3 by 3 matrix: 5\n",
      "Element no.6 in first 3 by 3 matrix: 6\n",
      "Element no.7 in first 3 by 3 matrix: 7\n",
      "Element no.8 in first 3 by 3 matrix: 8\n",
      "Element no.9 in first 3 by 3 matrix: 9\n",
      "\n",
      "Element no.1 in second 3 by 3 matrix: 9\n",
      "Element no.2 in second 3 by 3 matrix: 8\n",
      "Element no.3 in second 3 by 3 matrix: 7\n",
      "Element no.4 in second 3 by 3 matrix: 6\n",
      "Element no.5 in second 3 by 3 matrix: 5\n",
      "Element no.6 in second 3 by 3 matrix: 4\n",
      "Element no.7 in second 3 by 3 matrix: 3\n",
      "Element no.8 in second 3 by 3 matrix: 2\n",
      "Element no.9 in second 3 by 3 matrix: 1\n",
      "\n",
      "IF MATRIX NO.1: \n",
      "[1, 2, 3]\n",
      "[4, 5, 6]\n",
      "[7, 8, 9]\n",
      "\n",
      "AND MATRIX NO.2: \n",
      "[9, 8, 7]\n",
      "[6, 5, 4]\n",
      "[3, 2, 1]\n",
      "\n",
      "THEN THE PRODUCT OF MATRIX NO.1 AND MATRIX NO.2 IS: \n",
      "[30, 24, 18]\n",
      "[84, 69, 54]\n",
      "[138, 114, 90]\n"
     ]
    }
   ],
   "source": [
    "print('PROGRAM TO MULTIPLY TWO SQUARE MATRICES\\n')\n",
    "\n",
    "A,B,num1,num2=[],[],0,0\n",
    "x=int(input('No. of rows and columns in both of your square matrices: '))\n",
    "print()\n",
    "\n",
    "for i in range(x):\n",
    "    rowA=[]\n",
    "    for j in range(x):\n",
    "        num1=num1+1\n",
    "        rowA.append(int(input('Element no.'+str(num1)+' in first '+str(x)+' by '+str(x)+' matrix: ')))\n",
    "    A.append(rowA)\n",
    "print()\n",
    "for k in range(x):\n",
    "    rowB=[]\n",
    "    for l in range(x):\n",
    "        num2=num2+1\n",
    "        rowB.append(int(input('Element no.'+str(num2)+' in second '+str(x)+' by '+str(x)+' matrix: ')))\n",
    "    B.append(rowB)\n",
    "print()\n",
    "\n",
    "C=[[0,0,0],[0,0,0],[0,0,0]]\n",
    "for d in range(x):\n",
    "    for e in range(x):\n",
    "        for f in range(x):\n",
    "            C[d][e]=C[d][e]+(A[d][f]*B[f][e])\n",
    "\n",
    "print('IF MATRIX NO.1: ')\n",
    "for i in A:\n",
    "    print(i)\n",
    "print() \n",
    "\n",
    "print('AND MATRIX NO.2: ')\n",
    "for i in B:\n",
    "    print(i)        \n",
    "print()  \n",
    "\n",
    "print('THEN THE PRODUCT OF MATRIX NO.1 AND MATRIX NO.2 IS: ')\n",
    "for i in C:\n",
    "    print(i)"
   ]
  },
  {
   "cell_type": "code",
   "execution_count": null,
   "metadata": {},
   "outputs": [],
   "source": []
  }
 ],
 "metadata": {
  "kernelspec": {
   "display_name": "Python 3",
   "language": "python",
   "name": "python3"
  },
  "language_info": {
   "codemirror_mode": {
    "name": "ipython",
    "version": 3
   },
   "file_extension": ".py",
   "mimetype": "text/x-python",
   "name": "python",
   "nbconvert_exporter": "python",
   "pygments_lexer": "ipython3",
   "version": "3.8.5"
  }
 },
 "nbformat": 4,
 "nbformat_minor": 4
}
