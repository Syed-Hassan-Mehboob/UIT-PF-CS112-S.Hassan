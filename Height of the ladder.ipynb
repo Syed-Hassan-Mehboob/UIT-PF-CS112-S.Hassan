{
 "cells": [
  {
   "cell_type": "code",
   "execution_count": 11,
   "metadata": {},
   "outputs": [
    {
     "name": "stdout",
     "output_type": "stream",
     "text": [
      "~FINDING THE HEIGHT THAT THE LADDER REACHED WHEN THE LENGTH OF LADDER AND THE ANGLE IT MAKES WITH THE GROUND IS GIVEN~\n",
      "\n",
      "Enter the length of the ladder in feet: 24\n",
      "Enter the angle the ladder forms with the ground in degrees: 80\n",
      "\n",
      "When the ladder's length is 24.0 feet and it's angle with the ground is 80.0 °\n",
      "Then the height that the ladder reached is 23.6353860730528 feet.\n"
     ]
    }
   ],
   "source": [
    "print('~FINDING THE HEIGHT THAT THE LADDER REACHED WHEN THE LENGTH OF LADDER AND THE ANGLE IT MAKES WITH THE GROUND IS GIVEN~')\n",
    "print() # Aesthetics\n",
    "\n",
    "# Taking values of length and angle from user.\n",
    "length = float(input('Enter the length of the ladder in feet: '))\n",
    "angle_degrees = float(input('Enter the angle the ladder forms with the ground in degrees: '))\n",
    "\n",
    "print() # Aesthetics\n",
    "\n",
    "# Converting angle_degrees in radians so we can enter it in sin function.\n",
    "angle_radian = ((3.141592654 * angle_degrees) / 180)\n",
    "\n",
    "# Calculating the height that the ladder reached.\n",
    "from math import sin\n",
    "height = length * sin(angle_radian)\n",
    "\n",
    "# Printing the value of height.\n",
    "print(\"When the ladder's length is\", length, \"feet and it's angle with the ground is\", angle_degrees, \"°\")\n",
    "print('Then the height that the ladder reached is', height, 'feet.')"
   ]
  }
 ],
 "metadata": {
  "kernelspec": {
   "display_name": "Python 3",
   "language": "python",
   "name": "python3"
  },
  "language_info": {
   "codemirror_mode": {
    "name": "ipython",
    "version": 3
   },
   "file_extension": ".py",
   "mimetype": "text/x-python",
   "name": "python",
   "nbconvert_exporter": "python",
   "pygments_lexer": "ipython3",
   "version": "3.8.5"
  }
 },
 "nbformat": 4,
 "nbformat_minor": 4
}
