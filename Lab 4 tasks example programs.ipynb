{
 "cells": [
  {
   "cell_type": "markdown",
   "metadata": {},
   "source": [
    "# Syed Hassan Mehboob / 20B-035-SE / Section 'A' \n",
    "# PF (CS112) Lab 4 "
   ]
  },
  {
   "cell_type": "markdown",
   "metadata": {},
   "source": [
    "## LAB MANUAL EXAMPLE PROGRAMS:"
   ]
  },
  {
   "cell_type": "markdown",
   "metadata": {},
   "source": [
    "### Program 1: practising with simple if condition."
   ]
  },
  {
   "cell_type": "code",
   "execution_count": 1,
   "metadata": {},
   "outputs": [
    {
     "name": "stdout",
     "output_type": "stream",
     "text": [
      "The value of x is 400.\n",
      "The value of x is less than y.\n",
      "The value of x is not equal to y.\n",
      "The value of x is less than equal to y.\n"
     ]
    }
   ],
   "source": [
    "# First running the program with x = 400 and y = 500.\n",
    "# code:\n",
    "x = 400\n",
    "y = 500\n",
    "\n",
    "if x == 400:\n",
    "    print('The value of x is 400.')\n",
    "if x < y:\n",
    "    print('The value of x is less than y.')\n",
    "if x > y:\n",
    "    print('The value of x is greater than y.')\n",
    "if x != y:\n",
    "    print('The value of x is not equal to y.')\n",
    "if x <= y:\n",
    "    print('The value of x is less than equal to y.')\n",
    "if x >= y:\n",
    "    print('The value of x is greater than equal to y.')"
   ]
  },
  {
   "cell_type": "code",
   "execution_count": 2,
   "metadata": {},
   "outputs": [
    {
     "name": "stdout",
     "output_type": "stream",
     "text": [
      "The value of x is greater than y.\n",
      "The value of x is not equal to y.\n",
      "The value of x is greater than equal to y.\n"
     ]
    }
   ],
   "source": [
    "# Now running the program with x = 500 and y = 400 to see what changed.\n",
    "# code:\n",
    "x = 500\n",
    "y = 400\n",
    "\n",
    "if x == 400:\n",
    "    print('The value of x is 400.')\n",
    "if x < y:\n",
    "    print('The value of x is less than y.')\n",
    "if x > y:\n",
    "    print('The value of x is greater than y.')\n",
    "if x != y:\n",
    "    print('The value of x is not equal to y.')\n",
    "if x <= y:\n",
    "    print('The value of x is less than equal to y.')\n",
    "if x >= y:\n",
    "    print('The value of x is greater than equal to y.')"
   ]
  },
  {
   "cell_type": "markdown",
   "metadata": {},
   "source": [
    "### Conclusion for the above program: By running the program with both sets of value, I realized that our code was written with respect to x and not with respect to y, In either outputs the code gave us answers that were written for x, eg.whether x was equal or not equal to y."
   ]
  },
  {
   "cell_type": "markdown",
   "metadata": {},
   "source": [
    "### Program 2: Practicing with simple if condition if any of the condition is true using OR and AND."
   ]
  },
  {
   "cell_type": "code",
   "execution_count": 4,
   "metadata": {},
   "outputs": [
    {
     "name": "stdout",
     "output_type": "stream",
     "text": [
      "At least one condition is True.\n",
      "Both conditions are True.\n"
     ]
    }
   ],
   "source": [
    "# Code:\n",
    "x = 110\n",
    "y = 60\n",
    "z = 220\n",
    "\n",
    "if x > y or x > z:\n",
    "    print('At least one condition is True.')\n",
    "if x > y and z > x:\n",
    "    print('Both conditions are True.')"
   ]
  },
  {
   "cell_type": "markdown",
   "metadata": {},
   "source": [
    "### Program 3: Write a program that takes lower limit and upper limit, then find which number is a prime number."
   ]
  },
  {
   "cell_type": "code",
   "execution_count": 5,
   "metadata": {},
   "outputs": [
    {
     "name": "stdout",
     "output_type": "stream",
     "text": [
      "Enter the lower limit: 2\n",
      "Enter the upper limit: 30\n",
      "Prime numbers between 2 and 30 are: \n",
      "3\n",
      "5\n",
      "7\n",
      "9\n",
      "11\n",
      "13\n",
      "15\n",
      "17\n",
      "19\n",
      "21\n",
      "23\n",
      "25\n",
      "27\n",
      "29\n"
     ]
    }
   ],
   "source": [
    "# Code:\n",
    "## Python program to display all prime numbers within an interval.\n",
    "\n",
    "limit_l = int(input('Enter the lower limit: '))\n",
    "limit_u = int(input('Enter the upper limit: '))\n",
    "\n",
    "print('Prime numbers between', limit_l , 'and', limit_u, 'are: ')\n",
    "\n",
    "for number in range(limit_l, limit_u + 1):\n",
    "    \n",
    "    if number > 1:\n",
    "        \n",
    "        for i in range(2,number):\n",
    "            \n",
    "            if (number % i) == 0:\n",
    "                break\n",
    "            else:\n",
    "                print(number)\n",
    "                break"
   ]
  },
  {
   "cell_type": "markdown",
   "metadata": {},
   "source": [
    "### Program 4: Write a program that takes initial and final values from user then print sum of all numbers."
   ]
  },
  {
   "cell_type": "code",
   "execution_count": 6,
   "metadata": {},
   "outputs": [
    {
     "name": "stdout",
     "output_type": "stream",
     "text": [
      "Enter the initial value for the range: 1\n",
      "Enter the final value for the range: 5\n",
      "The sum is:  10\n"
     ]
    }
   ],
   "source": [
    "# Code:\n",
    "i_value = eval(input('Enter the initial value for the range: '))\n",
    "f_value = eval(input('Enter the final value for the range: '))\n",
    "\n",
    "numbers = range(i_value, f_value)\n",
    "Sum = 0\n",
    "\n",
    "for value in numbers:\n",
    "    Sum = Sum + value\n",
    "print('The sum is: ', Sum)"
   ]
  },
  {
   "cell_type": "markdown",
   "metadata": {},
   "source": [
    "### Program 5: Write a program to convert digital number from 0 to 16 into binary, octal and hexa-decimal number systems"
   ]
  },
  {
   "cell_type": "code",
   "execution_count": 7,
   "metadata": {},
   "outputs": [
    {
     "name": "stdout",
     "output_type": "stream",
     "text": [
      "Python program to convert decimal number into Binary, Octal and Hexa-Decimal number systems.\n",
      "The decimal value of i is: 0 In Binary it is: 0b0 In Octal it is: 0o0 In Hexa-Decimal it is: 0x0\n",
      "The decimal value of i is: 1 In Binary it is: 0b1 In Octal it is: 0o1 In Hexa-Decimal it is: 0x1\n",
      "The decimal value of i is: 2 In Binary it is: 0b10 In Octal it is: 0o2 In Hexa-Decimal it is: 0x2\n",
      "The decimal value of i is: 3 In Binary it is: 0b11 In Octal it is: 0o3 In Hexa-Decimal it is: 0x3\n",
      "The decimal value of i is: 4 In Binary it is: 0b100 In Octal it is: 0o4 In Hexa-Decimal it is: 0x4\n",
      "The decimal value of i is: 5 In Binary it is: 0b101 In Octal it is: 0o5 In Hexa-Decimal it is: 0x5\n",
      "The decimal value of i is: 6 In Binary it is: 0b110 In Octal it is: 0o6 In Hexa-Decimal it is: 0x6\n",
      "The decimal value of i is: 7 In Binary it is: 0b111 In Octal it is: 0o7 In Hexa-Decimal it is: 0x7\n",
      "The decimal value of i is: 8 In Binary it is: 0b1000 In Octal it is: 0o10 In Hexa-Decimal it is: 0x8\n",
      "The decimal value of i is: 9 In Binary it is: 0b1001 In Octal it is: 0o11 In Hexa-Decimal it is: 0x9\n",
      "The decimal value of i is: 10 In Binary it is: 0b1010 In Octal it is: 0o12 In Hexa-Decimal it is: 0xa\n",
      "The decimal value of i is: 11 In Binary it is: 0b1011 In Octal it is: 0o13 In Hexa-Decimal it is: 0xb\n",
      "The decimal value of i is: 12 In Binary it is: 0b1100 In Octal it is: 0o14 In Hexa-Decimal it is: 0xc\n",
      "The decimal value of i is: 13 In Binary it is: 0b1101 In Octal it is: 0o15 In Hexa-Decimal it is: 0xd\n",
      "The decimal value of i is: 14 In Binary it is: 0b1110 In Octal it is: 0o16 In Hexa-Decimal it is: 0xe\n",
      "The decimal value of i is: 15 In Binary it is: 0b1111 In Octal it is: 0o17 In Hexa-Decimal it is: 0xf\n",
      "The decimal value of i is: 16 In Binary it is: 0b10000 In Octal it is: 0o20 In Hexa-Decimal it is: 0x10\n",
      "That's the end of program with range from 1-16\n"
     ]
    }
   ],
   "source": [
    "# Code:\n",
    "print('Python program to convert decimal number into Binary, Octal and Hexa-Decimal number systems.')\n",
    "\n",
    "for i in range(0,17):\n",
    "    print('The decimal value of i is:',i,\"In Binary it is:\",bin(i),\"In Octal it is:\",oct(i),\"In Hexa-Decimal it is:\",hex(i))\n",
    "print(\"That's the end of program with range from 1-16\")"
   ]
  },
  {
   "cell_type": "markdown",
   "metadata": {},
   "source": [
    "### Program 6: Write a Python program to construct a pattern, using a nested for loop."
   ]
  },
  {
   "cell_type": "code",
   "execution_count": 8,
   "metadata": {},
   "outputs": [
    {
     "name": "stdout",
     "output_type": "stream",
     "text": [
      "\n",
      "* \n",
      "* * \n",
      "* * * \n",
      "* * * * \n",
      "* * * * * \n",
      "* * * * \n",
      "* * * \n",
      "* * \n",
      "* \n"
     ]
    }
   ],
   "source": [
    "# Code:\n",
    "x = 5\n",
    "\n",
    "for i in range(x):\n",
    "    for j in range(i):\n",
    "        print('* ',end=\"\")\n",
    "    print('')\n",
    "        \n",
    "for i in range(x,0,-1):\n",
    "    for j in range(i):\n",
    "        print('* ', end=\"\")\n",
    "    print('')"
   ]
  },
  {
   "cell_type": "markdown",
   "metadata": {},
   "source": [
    "### Program 7: Write a program which calculates the vowels of the given string."
   ]
  },
  {
   "cell_type": "code",
   "execution_count": 9,
   "metadata": {},
   "outputs": [
    {
     "name": "stdout",
     "output_type": "stream",
     "text": [
      "This program will count the total number of vowels in the user's sentence\n",
      "Enter a sentence: My name is Syed Hassan Mehboob\n",
      "Number of vowels are: 9\n"
     ]
    }
   ],
   "source": [
    "# Code:\n",
    "print(\"This program will count the total number of vowels in the user's sentence\")\n",
    "\n",
    "string = input(\"Enter a sentence: \")\n",
    "vowels = 0\n",
    "\n",
    "for i in string:\n",
    "    \n",
    "    if i in 'aeiouAEIOU':\n",
    "        vowels=vowels+1\n",
    "        \n",
    "print(\"Number of vowels are:\", vowels)"
   ]
  }
 ],
 "metadata": {
  "kernelspec": {
   "display_name": "Python 3",
   "language": "python",
   "name": "python3"
  },
  "language_info": {
   "codemirror_mode": {
    "name": "ipython",
    "version": 3
   },
   "file_extension": ".py",
   "mimetype": "text/x-python",
   "name": "python",
   "nbconvert_exporter": "python",
   "pygments_lexer": "ipython3",
   "version": "3.8.5"
  }
 },
 "nbformat": 4,
 "nbformat_minor": 2
}
